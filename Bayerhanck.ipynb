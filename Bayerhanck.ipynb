{
 "cells": [
  {
   "cell_type": "markdown",
   "metadata": {},
   "source": [
    "## Bayer and Hanck (2013) Combined Cointegration Approach\n",
    "\n",
    "* Existing applied economics literature provides many cointegration approaches to examine long-run relationship between macroeconomic variables. \n",
    "* Before proceeding to cointegration approach, it is necessary to examine unit root properties of the variables, which helps in choosing suitable cointegration test for empirical model for reliable empirical results.\n",
    "* Existing cointegration approaches include Engle and Granger (1987) (EG), Johansen (1991) (JOH), Phillips and Ouliaris (1990), Peter Boswijk (1994) (BO) and Banerjee $\\it{et}$ $\\it{al}$. (1998)(BDM). \n",
    "* These cointegration approaches may provide ambiguous empirical results due to their explanatory power properties. \n",
    "* Bayer and Hanck (2009 and 2013) developed a new cointegration approach known as the combined cointegration approach. This test combines the results of previous cointegration approaches (Johansen, Phillips and Ouliaris, Boswijk, and Banerjee) and provides Fisher F-statistics for more conclusive and reliable empirical findings. \n",
    "* The Bayer and Hanck combined cointegration approach, the order of integration must be unique, i.e. $I(1)$. If the calculated F-statistic exceeds the critical value, we may reject the null of no cointegration; the reverse applies for the acceptance of the null hypothesis. \n",
    "\n"
   ]
  },
  {
   "cell_type": "markdown",
   "metadata": {},
   "source": [
    "The Fisher's formulas of computing Bayer and Hanck cointegration are as follows:\n",
    "\n",
    "$$𝐸𝐺−𝐽𝑂𝐻=−2[\\ln⁡(𝑃_{𝐸𝐺})+\\ln⁡(𝑃_{𝐽𝑂𝐻})]$$ \n",
    "\n",
    "$$𝐸𝐺−𝐽𝑂𝐻−𝐵𝑂−𝐵𝐷𝑀=−2[\\ln⁡(𝑃_{𝐸𝐺})+\\ln(𝑃_{𝐽𝑂𝐻})+\\ln(𝑃_{𝐵𝑂})+\\ln(𝑃_{𝐵𝐷𝑀})]$$\n",
    "\n",
    "* Where $𝑃_{𝐸𝐺},𝑃_{𝐽𝑂𝐻},𝑃_{𝐵𝑂},𝑃_{𝐵𝐷𝑀}$ are the p-values of various individual cointegration tests such as Engle and Granger (1987), Johansen (1991), Peter Boswijk (1994) and Banerjee$\\it{et}$ $\\it{al}$.(1998), respectively. \n",
    "* The Fisher statistic is used to examine whether cointegration exists or not between the variables. We may reject the null hypothesis in favor of cointegration between the variables if the Fisher statistic exceeds the Bayer and Hanck critical bounds and vice versa.\n"
   ]
  },
  {
   "cell_type": "markdown",
   "metadata": {},
   "source": [
    "### A joint test-Statistics for the Null of Non-Cointegration\n",
    "* Bayer, C., & Hanck, C., 2013. Combining non cointegration tests. Journal of Time Series Analysis,34,83–95. \n",
    "* Bayerhanck produces a joint test-statistic for the null of non-cointegration based on Engle-Granger, Johansen maximum eigenvalue, Boswijk and Banerjee tests. https://rdrr.io/github/jens-klenke/bayerhanck/"
   ]
  },
  {
   "cell_type": "code",
   "execution_count": 2,
   "metadata": {},
   "outputs": [],
   "source": [
    "library(readxl)\n",
    "library(bayerhanck)\n",
    "dataset <- read_excel(\"Book2Q.xlsx\")"
   ]
  },
  {
   "cell_type": "code",
   "execution_count": 6,
   "metadata": {},
   "outputs": [
    {
     "name": "stdout",
     "output_type": "stream",
     "text": [
      "tibble [187 x 4] (S3: tbl_df/tbl/data.frame)\n",
      " $ Date : chr [1:187] \"1973Q1\" \"1973Q2\" \"1973Q3\" \"1973Q4\" ...\n",
      " $ LREP : num [1:187] 7.02 7 6.98 7.02 7.1 ...\n",
      " $ LRGDP: num [1:187] 8.64 8.65 8.64 8.65 8.64 ...\n",
      " $ LUNEM: num [1:187] 1.69 1.58 1.57 1.5 1.72 ...\n"
     ]
    }
   ],
   "source": [
    "# dataframe attributes\n",
    "str(dataset)"
   ]
  },
  {
   "cell_type": "code",
   "execution_count": 5,
   "metadata": {},
   "outputs": [
    {
     "data": {
      "text/plain": [
       "      LREP           LRGDP           LUNEM      \n",
       " Min.   :6.899   Min.   :8.621   Min.   :1.272  \n",
       " 1st Qu.:7.247   1st Qu.:8.951   1st Qu.:1.616  \n",
       " Median :7.344   Median :9.305   Median :1.775  \n",
       " Mean   :7.400   Mean   :9.284   Mean   :1.801  \n",
       " 3rd Qu.:7.487   3rd Qu.:9.641   3rd Qu.:1.990  \n",
       " Max.   :8.000   Max.   :9.859   Max.   :2.413  "
      ]
     },
     "metadata": {},
     "output_type": "display_data"
    }
   ],
   "source": [
    "# descriptive statistics\n",
    "summary(dataset[,2:4])"
   ]
  },
  {
   "cell_type": "code",
   "execution_count": 8,
   "metadata": {},
   "outputs": [
    {
     "name": "stdout",
     "output_type": "stream",
     "text": [
      "----------------------------------------------------------\n",
      "Engle-Granger Test\n",
      "----------------------------------------------------------\n",
      "Value of test statistic: -1.6877\n",
      "----------------------------------------------------------\n",
      "Johansen Test\n",
      "----------------------------------------------------------\n",
      "Value of test statistic: 18.2717\n",
      "----------------------------------------------------------\n",
      "Banerjee Test\n",
      "----------------------------------------------------------\n",
      "Value of test statistic: -0.5336\n",
      "----------------------------------------------------------\n",
      "Boswijk Test\n",
      "----------------------------------------------------------\n",
      "Value of test statistic: 5.6453\n"
     ]
    }
   ],
   "source": [
    "# model LRGDP = f(LREP,LUNEM) Test Statistics\n",
    "englegranger(LRGDP ~ LREP + LUNEM, data = dataset, lags = 2, trend = \"const\")\n",
    "johansen(LRGDP ~ LREP + LUNEM, data = dataset, type = \"eigen\", lags = 2, trend = \"const\")\n",
    "banerjee(LRGDP ~ LREP + LUNEM, data = dataset, lags = 2, trend = \"const\")\n",
    "boswijk(LRGDP ~ LREP + LUNEM, data = dataset, lags = 2, trend = \"const\")"
   ]
  },
  {
   "cell_type": "code",
   "execution_count": 17,
   "metadata": {
    "scrolled": true
   },
   "outputs": [
    {
     "name": "stdout",
     "output_type": "stream",
     "text": [
      "----------------------------------------------------------\n",
      "Bayer-Hanck Test for Non-Cointegration\n",
      "----------------------------------------------------------\n",
      "Value of the Fisher Type Test statistic: 4.4554\n",
      "Critical 1 % Value of the Fisher Type Test: 16.679\n",
      "----------------------------------------------------------\n",
      "Bayerhanck Test for Non-Cointegration\n",
      "----------------------------------------------------------\n",
      "Formula: LRGDP ~ LREP + LUNEM\n",
      "Lags: 2\n",
      "Trend: const\n",
      " \n",
      "Underlying Tests:\n",
      "                Engle-Granger Johansen\n",
      "Test Statistics       -1.6877  18.2717\n",
      "p-Values               0.8453   0.1275\n",
      " \n",
      "Value of the Fisher Type Test statistic: 4.4554\n",
      "1% Critical value for the Test statistic: 16.679"
     ]
    }
   ],
   "source": [
    "# EG-JOH：lag 2, constant trend, significance level is 1%\n",
    "egj1 = bayerhanck(LRGDP ~ LREP + LUNEM, data = dataset, lags = 2, trend = \"const\", test = \"eg-j\", crit = 0.01)\n",
    "summary(egj1)"
   ]
  },
  {
   "cell_type": "code",
   "execution_count": 18,
   "metadata": {
    "scrolled": true
   },
   "outputs": [
    {
     "name": "stdout",
     "output_type": "stream",
     "text": [
      "----------------------------------------------------------\n",
      "Bayer-Hanck Test for Non-Cointegration\n",
      "----------------------------------------------------------\n",
      "Value of the Fisher Type Test statistic: 4.4554\n",
      "Critical 5 % Value of the Fisher Type Test: 10.895\n",
      "----------------------------------------------------------\n",
      "Bayerhanck Test for Non-Cointegration\n",
      "----------------------------------------------------------\n",
      "Formula: LRGDP ~ LREP + LUNEM\n",
      "Lags: 2\n",
      "Trend: const\n",
      " \n",
      "Underlying Tests:\n",
      "                Engle-Granger Johansen\n",
      "Test Statistics       -1.6877  18.2717\n",
      "p-Values               0.8453   0.1275\n",
      " \n",
      "Value of the Fisher Type Test statistic: 4.4554\n",
      "5% Critical value for the Test statistic: 10.895"
     ]
    }
   ],
   "source": [
    "# EG-JOH：lag 2, constant trend, significance level is 5%\n",
    "egj2 = bayerhanck(LRGDP ~ LREP + LUNEM, data = dataset, lags = 2, trend = \"const\", test = \"eg-j\", crit = 0.05)\n",
    "summary(egj2)"
   ]
  },
  {
   "cell_type": "code",
   "execution_count": 20,
   "metadata": {},
   "outputs": [
    {
     "name": "stdout",
     "output_type": "stream",
     "text": [
      "----------------------------------------------------------\n",
      "Bayer-Hanck Test for Non-Cointegration\n",
      "----------------------------------------------------------\n",
      "Value of the Fisher Type Test statistic: 4.4554\n",
      "Critical 10 % Value of the Fisher Type Test: 8.479\n",
      "----------------------------------------------------------\n",
      "Bayerhanck Test for Non-Cointegration\n",
      "----------------------------------------------------------\n",
      "Formula: LRGDP ~ LREP + LUNEM\n",
      "Lags: 2\n",
      "Trend: const\n",
      " \n",
      "Underlying Tests:\n",
      "                Engle-Granger Johansen\n",
      "Test Statistics       -1.6877  18.2717\n",
      "p-Values               0.8453   0.1275\n",
      " \n",
      "Value of the Fisher Type Test statistic: 4.4554\n",
      "10% Critical value for the Test statistic: 8.479"
     ]
    }
   ],
   "source": [
    "# EG-JOH：lag 2, constant trend, significance level is 10%\n",
    "egj3 = bayerhanck(LRGDP ~ LREP + LUNEM, data = dataset, lags = 2, trend = \"const\", test = \"eg-j\", crit = 0.10)\n",
    "summary(egj3)"
   ]
  },
  {
   "cell_type": "code",
   "execution_count": 9,
   "metadata": {
    "scrolled": true
   },
   "outputs": [
    {
     "name": "stdout",
     "output_type": "stream",
     "text": [
      "----------------------------------------------------------\n",
      "Bayer-Hanck Test for Non-Cointegration\n",
      "----------------------------------------------------------\n",
      "Value of the Fisher Type Test statistic: 5.6672\n",
      "Critical 1 % Value of the Fisher Type Test: 32.077\n",
      "----------------------------------------------------------\n",
      "Bayerhanck Test for Non-Cointegration\n",
      "----------------------------------------------------------\n",
      "Formula: LRGDP ~ LREP + LUNEM\n",
      "Lags: 2\n",
      "Trend: const\n",
      " \n",
      "Underlying Tests:\n",
      "                Engle-Granger Johansen Banerjee Boswijk\n",
      "Test Statistics       -1.6877  18.2717  -0.5336  5.6453\n",
      "p-Values               0.8453   0.1275   0.9426  0.5788\n",
      " \n",
      "Value of the Fisher Type Test statistic: 5.6672\n",
      "1% Critical value for the Test statistic: 32.077"
     ]
    }
   ],
   "source": [
    "# EG-JOH-BO-BDM：lag 2, constant trend, significance level is 1%\n",
    "bh1 = bayerhanck(LRGDP ~ LREP + LUNEM, data = dataset, lags = 2, trend = \"const\", test = \"all\", crit = 0.01)\n",
    "summary(bh1)"
   ]
  },
  {
   "cell_type": "code",
   "execution_count": 10,
   "metadata": {},
   "outputs": [
    {
     "name": "stdout",
     "output_type": "stream",
     "text": [
      "----------------------------------------------------------\n",
      "Bayer-Hanck Test for Non-Cointegration\n",
      "----------------------------------------------------------\n",
      "Value of the Fisher Type Test statistic: 5.6672\n",
      "Critical 5 % Value of the Fisher Type Test: 21.106\n",
      "----------------------------------------------------------\n",
      "Bayerhanck Test for Non-Cointegration\n",
      "----------------------------------------------------------\n",
      "Formula: LRGDP ~ LREP + LUNEM\n",
      "Lags: 2\n",
      "Trend: const\n",
      " \n",
      "Underlying Tests:\n",
      "                Engle-Granger Johansen Banerjee Boswijk\n",
      "Test Statistics       -1.6877  18.2717  -0.5336  5.6453\n",
      "p-Values               0.8453   0.1275   0.9426  0.5788\n",
      " \n",
      "Value of the Fisher Type Test statistic: 5.6672\n",
      "5% Critical value for the Test statistic: 21.106"
     ]
    }
   ],
   "source": [
    "#EG-JOH-BO-BDM：lag 2, constant trend, significance level is 5%\n",
    "bh2 = bayerhanck(LRGDP ~ LREP + LUNEM, data = dataset, lags = 2, trend = \"const\", test = \"all\", crit = 0.05)\n",
    "summary(bh2)"
   ]
  },
  {
   "cell_type": "code",
   "execution_count": 12,
   "metadata": {},
   "outputs": [
    {
     "name": "stdout",
     "output_type": "stream",
     "text": [
      "----------------------------------------------------------\n",
      "Bayer-Hanck Test for Non-Cointegration\n",
      "----------------------------------------------------------\n",
      "Value of the Fisher Type Test statistic: 5.6672\n",
      "Critical 10 % Value of the Fisher Type Test: 16.444\n",
      "----------------------------------------------------------\n",
      "Bayerhanck Test for Non-Cointegration\n",
      "----------------------------------------------------------\n",
      "Formula: LRGDP ~ LREP + LUNEM\n",
      "Lags: 2\n",
      "Trend: const\n",
      " \n",
      "Underlying Tests:\n",
      "                Engle-Granger Johansen Banerjee Boswijk\n",
      "Test Statistics       -1.6877  18.2717  -0.5336  5.6453\n",
      "p-Values               0.8453   0.1275   0.9426  0.5788\n",
      " \n",
      "Value of the Fisher Type Test statistic: 5.6672\n",
      "10% Critical value for the Test statistic: 16.444"
     ]
    }
   ],
   "source": [
    "# EG-JOH-BO-BDM：lag 2, constant trend, significance level is 10%\n",
    "bh3 = bayerhanck(LRGDP ~ LREP + LUNEM, data = dataset, lags = 2, trend = \"const\", test = \"all\", crit = 0.10)\n",
    "summary(bh3)"
   ]
  },
  {
   "cell_type": "code",
   "execution_count": 23,
   "metadata": {},
   "outputs": [
    {
     "data": {
      "image/png": "[encoded data removed]",
      "text/plain": [
       "plot without title"
      ]
     },
     "metadata": {
      "image/png": {
       "height": 420,
       "width": 420
      }
     },
     "output_type": "display_data"
    }
   ],
   "source": [
    "# Bayer-Hanck Fisher Statistics with EG-JOH test\n",
    "plot(egj2)"
   ]
  },
  {
   "cell_type": "code",
   "execution_count": 21,
   "metadata": {
    "scrolled": true
   },
   "outputs": [
    {
     "data": {
      "image/png": "[encoded data removed]",
      "text/plain": [
       "plot without title"
      ]
     },
     "metadata": {
      "image/png": {
       "height": 420,
       "width": 420
      }
     },
     "output_type": "display_data"
    }
   ],
   "source": [
    "# Bayer-Hanck Fisher Statistics with EG-JOH-BO-BDM test\n",
    "plot(bh2)"
   ]
  },
  {
   "cell_type": "markdown",
   "metadata": {},
   "source": [
    "## Empirical Results \n",
    "<table style=\"height: 137px;\" width=\"657\">\n",
    "<tbody>\n",
    "<tr style=\"height: 22px;\">\n",
    "<td style=\"height: 22px; width: 281.333px;\">&nbsp;<strong>Estimated models</strong>&nbsp;</td>\n",
    "<td style=\"height: 22px; width: 70px;\">&nbsp;EG-JOH</td>\n",
    "<td style=\"height: 22px; width: 146px;\">&nbsp;&nbsp;EG-JOH-BO-BDM&nbsp;</td>\n",
    "<td style=\"height: 22px; width: 54px;\">&nbsp;&nbsp;Lags&nbsp;</td>\n",
    "<td style=\"height: 22px; width: 104.667px;\">&nbsp;Cointegration&nbsp;</td>\n",
    "</tr>\n",
    "<tr style=\"height: 22px;\">\n",
    "<td style=\"height: 22px; width: 281.333px;\">&nbsp;$LRGDP_{t}= LREP_{t} + LUNEM_{t}$</td>\n",
    "<td style=\"height: 22px; width: 70px;\">&nbsp;4.4554&nbsp;</td>\n",
    "<td style=\"height: 22px; width: 146px;\">&nbsp;5.6672&nbsp;</td>\n",
    "<td style=\"height: 22px; width: 54px;\">&nbsp;2&nbsp;</td>\n",
    "<td style=\"height: 22px; width: 104.667px;\">&nbsp;No&nbsp;</td>\n",
    "</tr>\n",
    "<tr style=\"height: 22px;\">\n",
    "<td style=\"height: 22px; width: 281.333px;\">&nbsp;<strong>Significance Level</strong></td>\n",
    "<td style=\"height: 22px; width: 70px;\">&nbsp;</td>\n",
    "<td style=\"height: 22px; width: 146px;\">&nbsp;</td>\n",
    "<td style=\"height: 22px; width: 54px;\">&nbsp;</td>\n",
    "<td style=\"height: 22px; width: 104.667px;\">&nbsp;</td>\n",
    "</tr>\n",
    "<tr style=\"height: 22px;\">\n",
    "<td style=\"height: 22px; width: 281.333px;\">1%</td>\n",
    "<td style=\"height: 22px; width: 70px;\">16.679</td>\n",
    "<td style=\"height: 22px; width: 146px;\">32.077</td>\n",
    "<td style=\"height: 22px; width: 54px;\">&nbsp;</td>\n",
    "<td style=\"height: 22px; width: 104.667px;\">&nbsp;</td>\n",
    "</tr>\n",
    "<tr style=\"height: 22px;\">\n",
    "<td style=\"height: 22px; width: 281.333px;\">5%</td>\n",
    "<td style=\"height: 22px; width: 70px;\">10.895</td>\n",
    "<td style=\"height: 22px; width: 146px;\">21.106</td>\n",
    "<td style=\"height: 22px; width: 54px;\">&nbsp;</td>\n",
    "<td style=\"height: 22px; width: 104.667px;\">&nbsp;</td>\n",
    "</tr>\n",
    "<tr style=\"height: 22px;\">\n",
    "<td style=\"height: 22px; width: 281.333px;\">10%</td>\n",
    "<td style=\"height: 22px; width: 70px;\">&nbsp;8.479</td>\n",
    "<td style=\"height: 22px; width: 146px;\">&nbsp;16.444</td>\n",
    "<td style=\"height: 22px; width: 54px;\">&nbsp;</td>\n",
    "<td style=\"height: 22px; width: 104.667px;\">&nbsp;</td>\n",
    "</tr>\n",
    "</tbody>\n",
    "</table>"
   ]
  },
  {
   "cell_type": "code",
   "execution_count": null,
   "metadata": {},
   "outputs": [],
   "source": []
  }
 ],
 "metadata": {
  "kernelspec": {
   "display_name": "R",
   "language": "R",
   "name": "ir"
  },
  "language_info": {
   "codemirror_mode": "r",
   "file_extension": ".r",
   "mimetype": "text/x-r-source",
   "name": "R",
   "pygments_lexer": "r",
   "version": "3.6.3"
  }
 },
 "nbformat": 4,
 "nbformat_minor": 2
}
